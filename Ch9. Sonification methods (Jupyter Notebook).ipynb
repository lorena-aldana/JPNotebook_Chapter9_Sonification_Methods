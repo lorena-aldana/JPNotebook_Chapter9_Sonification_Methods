{
 "cells": [
  {
   "cell_type": "code",
   "execution_count": 2,
   "id": "1969501c",
   "metadata": {},
   "outputs": [],
   "source": [
    "import glob\n",
    "import pandas as pd\n",
    "import numpy as np\n",
    "import time\n",
    "import matplotlib.pylab as plt\n",
    "import os\n",
    "import ecgprocpy3"
   ]
  },
  {
   "cell_type": "markdown",
   "id": "e9d03bce",
   "metadata": {},
   "source": [
    "# Import data"
   ]
  },
  {
   "cell_type": "code",
   "execution_count": 3,
   "id": "1a63d28e",
   "metadata": {},
   "outputs": [
    {
     "name": "stdout",
     "output_type": "stream",
     "text": [
      "/Users/lorenaaldana/Documents/PhD_Thesis_Corrections/PhDThesis_w_corrections/IPNotebookThesis/ch9.code_sonification_methods/data\n"
     ]
    }
   ],
   "source": [
    "c_wd = os.getcwd()\n",
    "directory= c_wd + '/data'\n",
    "print(directory)\n",
    "files = glob.glob(directory+\"/*.csv\")\n",
    "datasets = []\n",
    "for f in files:\n",
    "    datasets.append(pd.read_csv(f, delimiter=' ', header = None,  usecols=[0]))"
   ]
  },
  {
   "cell_type": "markdown",
   "id": "2630faa1",
   "metadata": {},
   "source": [
    "# Data exploration. Select a dataset either to to sonify it or plot it"
   ]
  },
  {
   "cell_type": "code",
   "execution_count": 4,
   "id": "1f618c90",
   "metadata": {},
   "outputs": [
    {
     "data": {
      "text/plain": [
       "Text(0.5, 0, 'Time [s]')"
      ]
     },
     "execution_count": 4,
     "metadata": {},
     "output_type": "execute_result"
    },
    {
     "data": {
      "image/png": "[encoded data removed]",
      "text/plain": [
       "<Figure size 432x288 with 1 Axes>"
      ]
     },
     "metadata": {
      "needs_background": "light"
     },
     "output_type": "display_data"
    }
   ],
   "source": [
    "#select a dataset:\n",
    "ecgdata = datasets[3]\n",
    "sr = 1000.0\n",
    "t= np.linspace(0, len(ecgdata)/sr, len(ecgdata))\n",
    "t_1 = 0\n",
    "t_2 = int(sr*5)\n",
    "plt.plot(t[t_1:t_2],ecgdata[t_1:t_2])\n",
    "plt.title('ECG signal'); plt.ylabel('Amplitude [mV]'); plt.xlabel ('Time [s]')"
   ]
  },
  {
   "cell_type": "markdown",
   "id": "36cbf34b",
   "metadata": {},
   "source": [
    "# Sonification methods"
   ]
  },
  {
   "cell_type": "markdown",
   "id": "dcca665e",
   "metadata": {},
   "source": [
    "## Init sc3nb for sonifications:"
   ]
  },
  {
   "cell_type": "code",
   "execution_count": 5,
   "id": "a77de7a9",
   "metadata": {},
   "outputs": [],
   "source": [
    "#Remember to first install sc3nb to use SuperCollider from the Jupyter Notebook:\n",
    "#https://github.com/interactive-sonification/sc3nb"
   ]
  },
  {
   "cell_type": "code",
   "execution_count": 6,
   "id": "6dd7ea7b",
   "metadata": {},
   "outputs": [
    {
     "data": {
      "application/javascript": [
       "Jupyter.keyboard_manager.command_shortcuts.add_shortcut('cmd-.', {\n",
       "    help : 'sc.cmd(\"s.freeAll\")',\n",
       "    help_index : 'zz',\n",
       "    handler : function (event) {\n",
       "        IPython.notebook.kernel.execute(\"sc.freeAll()\")\n",
       "        return true;\n",
       "    }}\n",
       ");"
      ],
      "text/plain": [
       "<IPython.core.display.Javascript object>"
      ]
     },
     "metadata": {},
     "output_type": "display_data"
    }
   ],
   "source": [
    "from sc3nb.sc3nb import *"
   ]
  },
  {
   "cell_type": "code",
   "execution_count": 7,
   "id": "4c0716c6",
   "metadata": {},
   "outputs": [
    {
     "name": "stderr",
     "output_type": "stream",
     "text": [
      "[1215/182805.302438:WARNING:resource_bundle_qt.cpp(115)] locale_file_path.empty() for locale \n"
     ]
    },
    {
     "name": "stdout",
     "output_type": "stream",
     "text": [
      "sc3nb started\n",
      "-> sc3nb started\n",
      "\n",
      "-> localhost\n",
      "sc3> s.scope\n",
      "-> a Stethoscope\n",
      "\n",
      "-> a FreqScope\n",
      "\n"
     ]
    }
   ],
   "source": [
    "sc = startup(discard_output=True, verbose=True, liblo_flag=True)   \n",
    "%scv s.scope\n",
    "%scv s.freqscope"
   ]
  },
  {
   "cell_type": "markdown",
   "id": "fbfa85b7",
   "metadata": {},
   "source": [
    "If you need to exit SuperCollider use this line of code:"
   ]
  },
  {
   "cell_type": "code",
   "execution_count": 8,
   "id": "aebf1dea",
   "metadata": {},
   "outputs": [],
   "source": [
    "# sc.exit() "
   ]
  },
  {
   "cell_type": "code",
   "execution_count": 9,
   "id": "9d65987e",
   "metadata": {},
   "outputs": [],
   "source": [
    "#Functions implemented in the sonification methods (source code available at): \n",
    "#https://github.com/interactive-sonification/sc3nb\n",
    "def dbamp(db):\n",
    "    return 10**(db/20.0)\n",
    "def linlin(x, smi, sma, dmi, dma): \n",
    "    return (x-smi)/(sma-smi)*(dma-dmi) + dmi\n",
    "def midicps(m): \n",
    "    return 440.0*2**((m-69)/12.0)\n",
    "\n",
    "#Note: the current Sc3Nb library already has such functions implemented. No need to run this cell if you have the latest version installed"
   ]
  },
  {
   "cell_type": "markdown",
   "id": "795d9034",
   "metadata": {},
   "source": [
    "## Polarity"
   ]
  },
  {
   "cell_type": "markdown",
   "id": "361eca31",
   "metadata": {},
   "source": [
    "Create the synth:"
   ]
  },
  {
   "cell_type": "code",
   "execution_count": null,
   "id": "09e3191c",
   "metadata": {},
   "outputs": [],
   "source": [
    "%%scv\n",
    "(\n",
    "SynthDef(\"formant\", { | freq=440, amp=0.2, pan=0, num=1|\n",
    "    Out.ar(0, Pan2.ar( Formant.ar(freq.lag(0.1), freq, num.lag(0.05)*freq), pan, amp))\n",
    "}).add();\n",
    ")"
   ]
  },
  {
   "cell_type": "code",
   "execution_count": null,
   "id": "91740f52",
   "metadata": {},
   "outputs": [],
   "source": [
    "def polarity(data, band_passed = False, playback_rate=1, sr=1000.0, record=False):\n",
    "     '''\n",
    "    function to create a sonification using the polarity method.\n",
    "    \n",
    "    Input:\n",
    "        low_passed. True or False. If true, the signal is band-passed to remove the low-frequency component that results from respiration.\n",
    "        playback_rate: Float. playback rate of sonification. A value of 2 plays the sonification twice as fast. \n",
    "        sr: Float. signal's sample rate. \n",
    "    \n",
    "    ''' \n",
    "    \n",
    "    if band_passed:\n",
    "        datf = ecgprocpy3.bpIIR_filter(data, 0.5, 50, sr)\n",
    "        data = datf\n",
    "        \n",
    "    N, = np.shape(data)\n",
    "    \n",
    "    cmin = np.min(data); cmax = np.max(data) \n",
    "    #isoelectric reference:\n",
    "    iso = np.mean(data) \n",
    "\n",
    "    #sonification duration depending on playback rate\n",
    "    dur = N/sr/playback_rate\n",
    "    #short delay before triggering the sonification:\n",
    "    delay = 1.0\n",
    "    \n",
    "    #time reference to trigger the sonifications\n",
    "    now = time.time()\n",
    "    \n",
    "    # Sonification:\n",
    "    xid = 1001; sc.bundle(now, \"/s_new\", [\"formant\", xid, 0, 0])\n",
    "    sc.bundle(now + 0.0 + dur, \"/n_free\", [xid] )\n",
    "    # recording control\n",
    "    if record:\n",
    "        c_wd = os.getcwd()\n",
    "        recname = 'polarity.wav'\n",
    "        recdir = c_wd + '/recordings/'\n",
    "        sc.prepare_for_record(0, recdir + recname, 9, 2, \"wav\", \"int16\")\n",
    "        sc.record(now)\n",
    "        sc.stop_recording(now + dur + delay)\n",
    "        \n",
    "    # mapping and sonification\n",
    "    vm1 = 0\n",
    "    for j, v in enumerate(data): # traverse row-wise\n",
    "        onset = linlin(j, 0.0, N, 0, dur);\n",
    "        amp = dbamp(linlin(abs(v-iso), 0, cmax, -10, 0))\n",
    "        freq = midicps(linlin(v, cmin, cmax, 40, 70))\n",
    "        num = linlin(v-iso, -0.1, 0.1, 1, 10)\n",
    "        pan = clip(linlin(v - vm1, -0.1, 0.1, -1,1), -1, 1)\n",
    "        sc.bundle(now + onset, \"/n_set\", [xid, \"freq\", freq, \"pan\", pan, \"amp\", amp, \"num\", num ])\n",
    "        vm1 = v\n",
    "        print(onset)\n",
    "        \n",
    "#call polarity sonification function:\n",
    "sr = 1000\n",
    "t_1 = 0\n",
    "t_2 = int(sr*10)\n",
    "data = ecgdata[0][t_1:t_2]\n",
    "\n",
    "decim = 10\n",
    "polarity(data, playback_rate=2.0, low_passed = True, sr = sr, record=True)"
   ]
  },
  {
   "cell_type": "markdown",
   "id": "99832d4b",
   "metadata": {},
   "source": [
    "# Morph"
   ]
  },
  {
   "cell_type": "code",
   "execution_count": 10,
   "id": "41ec0e40",
   "metadata": {},
   "outputs": [
    {
     "name": "stdout",
     "output_type": "stream",
     "text": [
      "-> a SynthDef\n",
      "\n"
     ]
    }
   ],
   "source": [
    "%%scv\n",
    "(\n",
    "SynthDef(\"morph\", { | vf=200, vrate=1, vdepth=1, amp=0.5, out=0, morphf=0.5, strfactor=1, dur=0.6, signalA, signalB, envA, envB, mix|\n",
    "    signalA=LFPulse.ar(freq:Vibrato.kr(freq:vf, rate:vrate,depth:vdepth), width:0.5,mul:amp);\n",
    "    envA=EnvGen.kr(Env.perc(attackTime: (dur*0.35)*strfactor, releaseTime: (dur*0.65)*strfactor, level: 0.7, curve: -7), doneAction:2);\n",
    "    signalA=signalA * envA;\n",
    "                   \n",
    "    signalB= SinOsc.ar(freq:Vibrato.kr(freq:vf, rate:vrate,depth:vdepth) , mul:amp);\n",
    "    envB=EnvGen.kr(Env.perc(attackTime: (dur*0.35)*strfactor, releaseTime:  (dur*0.65)*strfactor, level: 0.7, curve: -7), doneAction:2);\n",
    "                   \n",
    "    signalB=signalB * envB;\n",
    "    mix = (signalA*morphf) + ((1-morphf)*signalB);\n",
    "    Out.ar(0, mix!2);\n",
    "                   \n",
    "}).add();\n",
    ")"
   ]
  },
  {
   "cell_type": "code",
   "execution_count": 25,
   "id": "b65df49b",
   "metadata": {},
   "outputs": [],
   "source": [
    "def morph(signal, sr, playback_rate, window, thpercentage, avgvalue = 10, record = False):\n",
    "    '''\n",
    "    function to create a sonification using the morph method.\n",
    "    \n",
    "    Input:\n",
    "    \n",
    "        sr: Float. signal's sample rate. \n",
    "        playback_rate: Float. playback rate of sonification. A value of 2 plays the sonification twice as fast. \n",
    "        window: Int. window size to look for R peaks. if the window is too large, it can miss peaks of an ECG signal exhibitin Tachycardia. \n",
    "        thpercentage: Float [0...1]. Percentage threshold to detect R peaks. A value of 0.5 means that amplitude values equal to or larger than 50% of the signal's amplitude are regarded as peaks. \n",
    "        avgvalue: Int. Number of previous R peaks consider when forecasting the next R peak. \n",
    "    \n",
    "    '''\n",
    "    N = len(signal)\n",
    "    #reference time for the sonification\n",
    "    tref = 0.0\n",
    "    #duration of the sonification\n",
    "    dur = N/sr/playback_rate\n",
    "    #Extract signal features:\n",
    "    pred_ma, pred_lr, peaks, rr, ma_cumu, _, rrma, rrlr = ecgprocpy3.actual_vs_predicted_onset_one_lead(signal, sr, window, thpercentage, avgvalue=avgvalue, plot = False)\n",
    "    #Calculate the amplitude in the ST segments\n",
    "    st_amp, hr = ecgprocpy3.st_amplitude_one_lead(signal, fc1=0.2, fc2= 50, accuracy = 0.1, st_length = 50, longer_qrs = 35, plot = False)\n",
    "\n",
    "\n",
    "    #Onset\n",
    "    now = time.time()\n",
    "    delay = 1.0\n",
    "    onset = 0;\n",
    "    \n",
    "    #Recording control\n",
    "    if record == True:\n",
    "        c_wd = os.getcwd()\n",
    "        recname = 'morph.wav'\n",
    "        recdir = c_wd + '/recordings/'\n",
    "        sc.prepare_for_record(0, recdir + recname, 9, 2, \"wav\", \"int16\")\n",
    "        sc.record(now)\n",
    "        sc.stop_recording(now + dur + delay)     \n",
    "    \n",
    "    for pk in range(len(peaks)-1):\n",
    "        #Update sonification onset according to peaks location\n",
    "        onset = tref + rr[pk]/playback_rate\n",
    "        tref = onset\n",
    "        amp  = dbamp(-20)\n",
    "        #Morphing factor\n",
    "        morph_factor = linlin (np.abs(st_amp[pk]), 0, 0.4, 0, 1.0)\n",
    "        sc.bundle(now+onset+delay, \"/s_new\", [\"morph\", -1, 0, 0, 'amp', amp, 'morphf', morph_factor, 'dur', 0.5, 'vf', 200, 'vrate', 1, 'vdepth', 1])\n",
    "\n",
    "    \n",
    "#call morph sonification function:\n",
    "sr = 1000\n",
    "t_1 = 0\n",
    "t_2 = int(sr*20)\n",
    "data = ecgdata[0][t_1:t_2]\n",
    "\n",
    "morph(data, sr, playback_rate=1.0, window = 400, thpercentage = 0.7, avgvalue = 10, record=False)"
   ]
  },
  {
   "cell_type": "markdown",
   "id": "1b901f1a",
   "metadata": {},
   "source": [
    "# Water ambience"
   ]
  },
  {
   "cell_type": "markdown",
   "id": "1c98fea9",
   "metadata": {},
   "source": [
    "Create the synth:"
   ]
  },
  {
   "cell_type": "code",
   "execution_count": 14,
   "id": "92a35f5c",
   "metadata": {},
   "outputs": [
    {
     "name": "stdout",
     "output_type": "stream",
     "text": [
      "-> a SynthDef\n",
      "\n"
     ]
    }
   ],
   "source": [
    "%%scv\n",
    "(\n",
    "f = Buffer.readChannel(s,\"sounds/Drop.wav\",channels:[0], bufnum: 20);\n",
    "SynthDef(\"water_ambience\", {|buf, amp=0.5, out=0, rate=1.0, pan= 0.5, signal|\n",
    "signal= PlayBuf.ar(1,buf, BufRateScale.kr(buf) * rate, doneAction:2);\n",
    "signal= Pan2.ar(signal * amp, Line.kr(-0.8,0.8,1));\n",
    "Out.ar(out,signal!2);\n",
    "}).add()\n",
    ")"
   ]
  },
  {
   "cell_type": "markdown",
   "id": "2b51b11b",
   "metadata": {},
   "source": [
    "Sonification function:"
   ]
  },
  {
   "cell_type": "code",
   "execution_count": 18,
   "id": "83d8d0a3",
   "metadata": {},
   "outputs": [],
   "source": [
    "def water_ambience(signal, sr, playback_rate, window, thpercentage, record = False):\n",
    "    '''\n",
    "    function to create a sonification using the water_ambience method.\n",
    "    \n",
    "    Input:\n",
    "    \n",
    "        sr: Float. signal's sample rate. \n",
    "        playback_rate: Float. playback rate of sonification. A value of 2 plays the sonification twice as fast. \n",
    "        window: Int. window size to look for R peaks. if the window is too large, it can miss peaks of an ECG signal exhibitin Tachycardia. \n",
    "        thpercentage: Float [0...1]. Percentage threshold to detect R peaks. A value of 0.5 means that amplitude values equal to or larger than 50% of the signal's amplitude are regarded as peaks. \n",
    "    \n",
    "    '''\n",
    "    \n",
    "    \n",
    "    N = len(signal)\n",
    "    tref = 0.0\n",
    "    dur = N/sr/playback_rate\n",
    "    #Select starting water sound\n",
    "    buf=20\n",
    "    #Extract signal features:\n",
    "    pred_ma, pred_lr, peaks, rr, ma_cumu, _, rrma, rrlr = ecgprocpy3.actual_vs_predicted_onset_one_lead(signal, sr, window, thpercentage, avgvalue=10, plot = False)\n",
    "    #Calculate the amplitude in the ST segments\n",
    "    st_amp, hr = ecgprocpy3.st_amplitude_one_lead(signal, fc1=0.2, fc2= 50, accuracy = 0.1, st_length = 50, longer_qrs = 35)\n",
    "    #Onset\n",
    "    now = time.time()\n",
    "    start_onset = 0;\n",
    "    end_onset = 0;\n",
    "    #Drops\n",
    "    max_drops = 5\n",
    "    stretch_factor = 0.2 #200 ms for sr 1000.0, so the end of drops in one heartbeat don't overlap with first drop of the next heartbeat\n",
    "    \n",
    "          #Recording control\n",
    "    if record == True:\n",
    "        c_wd = os.getcwd()\n",
    "        recname = 'water_ambience.wav'\n",
    "        recdir = c_wd + '/recordings/'\n",
    "        sc.prepare_for_record(0, recdir + recname, 9, 2, \"wav\", \"int16\")\n",
    "        sc.record(now)\n",
    "        sc.stop_recording(now + dur)  \n",
    "    \n",
    "    \n",
    "    for pk in range(len(peaks)-1):\n",
    "        #Number of drops\n",
    "        num_drops = int(linlin (np.abs(st_amp[pk]), 0, 0.4, 1, max_drops)) #negative st_amp results in no drops without abs\n",
    "        amp  = dbamp(-8)\n",
    "        #Update sonification onset according to peaks location\n",
    "        start_onset = (peaks[pk][0])/playback_rate\n",
    "        end_onset = (start_onset + rr[pk])/playback_rate \n",
    "        \n",
    "        #Create drops vector\n",
    "        times_drops = np.linspace(start_onset, end_onset - stretch_factor, num_drops)\n",
    "\n",
    "        #trigger drop sounds\n",
    "        for dr in range(len(times_drops)):\n",
    "            sc.bundle(now+times_drops[dr], \"/s_new\", [\"water_ambience\", -1, 0, 0, 'amp', amp, 'rate', 1.0, 'buf', buf, 'dur', 0.5])\n",
    "        \n",
    "    \n",
    "#call water_ambience sonification function:\n",
    "sr = 1000\n",
    "t_1 = 0\n",
    "t_2 = int(sr*20)\n",
    "data = ecgdata[0][t_1:t_2]\n",
    "\n",
    "water_ambience(data, sr, playback_rate=1.0, window = 400, thpercentage = 0.7, record=False)"
   ]
  },
  {
   "cell_type": "markdown",
   "id": "41202206",
   "metadata": {},
   "source": [
    "# Stethoscope"
   ]
  },
  {
   "cell_type": "markdown",
   "id": "ddee81c3",
   "metadata": {},
   "source": [
    "Create the synth:"
   ]
  },
  {
   "cell_type": "code",
   "execution_count": 20,
   "id": "80303e26",
   "metadata": {},
   "outputs": [
    {
     "name": "stdout",
     "output_type": "stream",
     "text": [
      "-> a SynthDef\n",
      "\n"
     ]
    }
   ],
   "source": [
    "%%scv\n",
    "(  \n",
    "q = Buffer.readChannel(s,\"sounds/HeartSound.wav\",channels:[0], bufnum: 31);\n",
    "    \n",
    "SynthDef(\"stethoscope\", { | amp=1,out=0, rate=1, pan=0, dur= 0.4, buf, start=0, freq_shift = 100, signal|\n",
    "    signal= FreqShift.ar(PlayBuf.ar(1,buf, BufRateScale.kr(buf)* rate, start, loop:0,  doneAction:2), freq_shift, 0, 1, 0);\n",
    "    signal=Pan2.ar(signal * amp * EnvGen.kr(Env.perc(0.2, BufDur.kr(buf), 1, curve:4)) , Line.kr(-0.8,0.8,1));\n",
    "    Out.ar(out,signal);\n",
    "}).add();\n",
    ")"
   ]
  },
  {
   "cell_type": "markdown",
   "id": "001757d8",
   "metadata": {},
   "source": [
    "Sonification function:"
   ]
  },
  {
   "cell_type": "code",
   "execution_count": 23,
   "id": "4d74cfdc",
   "metadata": {},
   "outputs": [],
   "source": [
    "def stethoscope(signal, sr, playback_rate, window, thpercentage, record = False, recname = 'ST_Det_RH'):\n",
    "     '''\n",
    "    function to create a sonification using the stethoscope method.\n",
    "    \n",
    "    Input:\n",
    "    \n",
    "        sr: Float. signal's sample rate. \n",
    "        playback_rate: Float. playback rate of sonification. A value of 2 plays the sonification twice as fast. \n",
    "        window: Int. window size to look for R peaks. if the window is too large, it can miss peaks of an ECG signal exhibitin Tachycardia. \n",
    "        thpercentage: Float [0...1]. Percentage threshold to detect R peaks. A value of 0.5 means that amplitude values equal to or larger than 50% of the signal's amplitude are regarded as peaks. \n",
    "    \n",
    "    '''\n",
    "    \n",
    "    N = len(signal)\n",
    "    tref = 0.0\n",
    "    dur = N/sr/playback_rate\n",
    "    #Extract signal features:\n",
    "    pred_ma, pred_lr, peaks, rr, ma_cumu, _, rrma, rrlr = ecgprocpy3.actual_vs_predicted_onset_one_lead(signal, sr, window, thpercentage, avgvalue=10, plot = False)\n",
    "    #Calculate the amplitude in the ST segments\n",
    "    st_amp, hr = ecgprocpy3.st_amplitude_one_lead(signal, fc1=0.2, fc2= 70, accuracy = 0.1, st_length = 50, longer_qrs = 35)\n",
    "    #Onset\n",
    "    now = time.time()\n",
    "    onset = 0;\n",
    "    \n",
    "        #Recording control\n",
    "    if record == True:\n",
    "        c_wd = os.getcwd()\n",
    "        recname = 'stethoscope.wav'\n",
    "        recdir = c_wd + '/recordings/'\n",
    "        sc.prepare_for_record(0, recdir + recname, 9, 2, \"wav\", \"int16\")\n",
    "        sc.record(now)\n",
    "        sc.stop_recording(now + dur) \n",
    "    \n",
    "    for pk in range(len(rr)):\n",
    "        #Update sonification onset according to peaks location\n",
    "        onset = tref + rr[pk]/playback_rate\n",
    "        tref = onset\n",
    "        amp  = dbamp(0)\n",
    "        #frequency shift mapping\n",
    "        freq_shift = int(linlin(np.abs(st_amp[pk]), 0, 0.4, 100, 500)) \n",
    "        #trigger the sounds\n",
    "        sc.bundle(now+onset, \"/s_new\", [\"stethoscope\", -1, 0, 0, 'buf', 31, 'amp', 2, 'freq_shift',freq_shift , 'rate', 1])\n",
    "\n",
    "#call stethoscope sonification function:\n",
    "sr = 1000\n",
    "t_1 = 0\n",
    "t_2 = int(sr*20)\n",
    "data = ecgdata[0][t_1:t_2]\n",
    "\n",
    "stethoscope(data, sr, playback_rate=1.0, window = 400, thpercentage = 0.7, record = True)"
   ]
  }
 ],
 "metadata": {
  "kernelspec": {
   "display_name": "Python 3 (ipykernel)",
   "language": "python",
   "name": "python3"
  },
  "language_info": {
   "codemirror_mode": {
    "name": "ipython",
    "version": 3
   },
   "file_extension": ".py",
   "mimetype": "text/x-python",
   "name": "python",
   "nbconvert_exporter": "python",
   "pygments_lexer": "ipython3",
   "version": "3.8.5"
  }
 },
 "nbformat": 4,
 "nbformat_minor": 5
}
